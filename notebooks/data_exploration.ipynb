{
 "cells": [
  {
   "cell_type": "markdown",
   "id": "885d1c0b-72e8-496c-8c46-94cc9ac94640",
   "metadata": {},
   "source": [
    "## Path of the images\n",
    "\n",
    "In a first time we need a function able to find the path to all the pictures that we are going to use for\n",
    "the training of the model."
   ]
  },
  {
   "cell_type": "code",
   "execution_count": 1,
   "id": "a6f5e421-be61-4c3c-85bb-34af288de973",
   "metadata": {},
   "outputs": [],
   "source": [
    "import os "
   ]
  },
  {
   "cell_type": "code",
   "execution_count": 2,
   "id": "1c5a62ee-70c8-4a97-9994-be690814f336",
   "metadata": {},
   "outputs": [],
   "source": [
    "path = '/home/etienneguevel/Documents/SCAI/OT4D/OT4D/data_kaggle/bone_marrow_cell_dataset'"
   ]
  },
  {
   "cell_type": "code",
   "execution_count": 3,
   "id": "53565356-7761-4e8c-b7a3-524675549f98",
   "metadata": {},
   "outputs": [],
   "source": [
    "states = [s for s in os.listdir(path)]"
   ]
  },
  {
   "cell_type": "code",
   "execution_count": 4,
   "id": "1a2f6d90-584e-4cec-85ea-52cf14be8791",
   "metadata": {},
   "outputs": [
    {
     "data": {
      "text/plain": [
       "['OTH',\n",
       " 'HAC',\n",
       " 'MMZ',\n",
       " 'ART',\n",
       " 'EOS',\n",
       " 'FGC',\n",
       " 'MON',\n",
       " 'MYB',\n",
       " 'PEB',\n",
       " 'LYI',\n",
       " 'PMO',\n",
       " 'LYT',\n",
       " 'NGB',\n",
       " 'KSC',\n",
       " 'NGS',\n",
       " 'BLA',\n",
       " 'NIF',\n",
       " 'EBO',\n",
       " 'ABE',\n",
       " 'BAS',\n",
       " 'PLM']"
      ]
     },
     "execution_count": 4,
     "metadata": {},
     "output_type": "execute_result"
    }
   ],
   "source": [
    "states"
   ]
  },
  {
   "cell_type": "code",
   "execution_count": 5,
   "id": "4626b10b-5fa6-4c9b-93e8-755d047159c5",
   "metadata": {},
   "outputs": [],
   "source": [
    "def find_files(path_dir):\n",
    "    files = {}\n",
    "    \n",
    "    for (dirpath, dirnames, filenames) in os.walk(path_dir):\n",
    "        temp = {os.path.join(dirpath, f): f for f in filenames}\n",
    "        files.update(temp)\n",
    "\n",
    "    return files"
   ]
  },
  {
   "cell_type": "code",
   "execution_count": 6,
   "id": "7c7d05a3-dabd-4539-8be0-bc0c7e948f3a",
   "metadata": {},
   "outputs": [],
   "source": [
    "test = find_files(os.path.join(path, 'MMZ'))"
   ]
  },
  {
   "cell_type": "code",
   "execution_count": 7,
   "id": "46455991-0a89-416c-9479-592b8b25a11a",
   "metadata": {},
   "outputs": [
    {
     "name": "stdout",
     "output_type": "stream",
     "text": [
      "/home/etienneguevel/Documents/SCAI/OT4D/OT4D/data_kaggle/bone_marrow_cell_dataset/MMZ/3001-3055/MMZ_03027.jpg MMZ_03027.jpg\n"
     ]
    }
   ],
   "source": [
    "for k, v in test.items():\n",
    "    print(k, v)\n",
    "    break"
   ]
  },
  {
   "cell_type": "markdown",
   "id": "de2bb982-de6a-4282-9823-07411a9f6a5d",
   "metadata": {},
   "source": [
    "## Sanity check\n",
    "\n",
    "As the image come from a kaggle dataset some may not work.  \n",
    "Let's check if we can:\n",
    "- open them\n",
    "- pass them through the models"
   ]
  },
  {
   "cell_type": "code",
   "execution_count": 8,
   "id": "f369789b-d0ed-462c-a709-a485380c6dba",
   "metadata": {},
   "outputs": [
    {
     "name": "stderr",
     "output_type": "stream",
     "text": [
      "/home/etienneguevel/Documents/SCAI/OT4D/OT4D/.venv/lib/python3.12/site-packages/tqdm/auto.py:21: TqdmWarning: IProgress not found. Please update jupyter and ipywidgets. See https://ipywidgets.readthedocs.io/en/stable/user_install.html\n",
      "  from .autonotebook import tqdm as notebook_tqdm\n"
     ]
    }
   ],
   "source": [
    "import numpy as np\n",
    "import torch\n",
    "from ot4d.main.helpers import initialize_model\n",
    "from PIL import Image"
   ]
  },
  {
   "cell_type": "code",
   "execution_count": 34,
   "id": "25250fd8-e213-4cab-874d-acb7c2514d94",
   "metadata": {},
   "outputs": [],
   "source": [
    "def image_checker(img_path, model, preprocessor):\n",
    "    try:\n",
    "        im = Image.open(img_path)\n",
    "        im = im.convert(\"RGB\")\n",
    "        im.load()\n",
    "        #im_pre = preprocessor(im)\n",
    "        #im_pre = torch.unsqueeze(im_pre, 0)\n",
    "        #model.model(im_pre)\n",
    "\n",
    "    except:\n",
    "        return False\n",
    "\n",
    "    return True"
   ]
  },
  {
   "cell_type": "code",
   "execution_count": 52,
   "id": "4f84e5d0-14f3-44da-970b-7f9db730be64",
   "metadata": {},
   "outputs": [],
   "source": [
    "path_dir = os.path.join(\"/home/etienneguevel/Documents/SCAI/OT4D/OT4D/sorted_data\", \"train\")\n",
    "path_dict = find_files(path_dir)\n",
    "\n",
    "path_list = [k for k in path_dict.keys()]\n",
    "\n",
    "model = initialize_model(model_name='resnet18', num_classes=21)\n",
    "preprocessor = model.processor()"
   ]
  },
  {
   "cell_type": "code",
   "execution_count": 53,
   "id": "d31ec5b3-9fd3-4b7e-8d5f-320df3b76462",
   "metadata": {},
   "outputs": [
    {
     "data": {
      "text/plain": [
       "True"
      ]
     },
     "execution_count": 53,
     "metadata": {},
     "output_type": "execute_result"
    }
   ],
   "source": [
    "image_checker(path_list[0], model, preprocessor)"
   ]
  },
  {
   "cell_type": "code",
   "execution_count": 54,
   "id": "eaa61144-3ddf-4aab-b55e-f74dc22d1d40",
   "metadata": {},
   "outputs": [],
   "source": [
    "wrong_ = filter(lambda x: not image_checker(x, model, preprocessor), path_list)"
   ]
  },
  {
   "cell_type": "code",
   "execution_count": 55,
   "id": "895abd59-a239-451d-a572-047bceb93b9f",
   "metadata": {},
   "outputs": [],
   "source": [
    "wrong = list(wrong_)"
   ]
  },
  {
   "cell_type": "code",
   "execution_count": 57,
   "id": "02b011db-326f-434d-b703-35b12e9f3371",
   "metadata": {},
   "outputs": [
    {
     "data": {
      "text/plain": [
       "['/home/etienneguevel/Documents/SCAI/OT4D/OT4D/sorted_data/train/MYB/MYB_05527.jpg']"
      ]
     },
     "execution_count": 57,
     "metadata": {},
     "output_type": "execute_result"
    }
   ],
   "source": [
    "wrong"
   ]
  },
  {
   "cell_type": "code",
   "execution_count": 62,
   "id": "f4a75f41-4fa7-4e50-a663-9b8273746bc5",
   "metadata": {},
   "outputs": [
    {
     "data": {
      "image/jpeg": "[encoded data removed]",
      "text/plain": [
       "<PIL.JpegImagePlugin.JpegImageFile image mode=RGB size=250x250>"
      ]
     },
     "execution_count": 62,
     "metadata": {},
     "output_type": "execute_result"
    }
   ],
   "source": [
    "im = Image.open(wrong[0])\n",
    "im"
   ]
  },
  {
   "cell_type": "code",
   "execution_count": 66,
   "id": "6d0fa108-8040-42c0-9daf-c3d35752ba66",
   "metadata": {},
   "outputs": [
    {
     "data": {
      "text/plain": [
       "<PixelAccess at 0x7f5632265e50>"
      ]
     },
     "execution_count": 66,
     "metadata": {},
     "output_type": "execute_result"
    }
   ],
   "source": [
    "im.load()"
   ]
  },
  {
   "cell_type": "code",
   "execution_count": 64,
   "id": "a1b77507-d7b2-471a-9dfc-695581f0f660",
   "metadata": {},
   "outputs": [
    {
     "ename": "OSError",
     "evalue": "broken data stream when reading image file",
     "output_type": "error",
     "traceback": [
      "\u001b[0;31m---------------------------------------------------------------------------\u001b[0m",
      "\u001b[0;31mOSError\u001b[0m                                   Traceback (most recent call last)",
      "Cell \u001b[0;32mIn[64], line 3\u001b[0m\n\u001b[1;32m      1\u001b[0m original_path \u001b[38;5;241m=\u001b[39m \u001b[38;5;124m\"\u001b[39m\u001b[38;5;124m/home/etienneguevel/Documents/SCAI/OT4D/OT4D/data_kaggle/bone_marrow_cell_dataset/MYB/5001-6000/MYB_05527.jpg\u001b[39m\u001b[38;5;124m\"\u001b[39m\n\u001b[1;32m      2\u001b[0m im \u001b[38;5;241m=\u001b[39m Image\u001b[38;5;241m.\u001b[39mopen(original_path)\n\u001b[0;32m----> 3\u001b[0m im \u001b[38;5;241m=\u001b[39m \u001b[43mim\u001b[49m\u001b[38;5;241;43m.\u001b[39;49m\u001b[43mconvert\u001b[49m\u001b[43m(\u001b[49m\u001b[38;5;124;43m\"\u001b[39;49m\u001b[38;5;124;43mRGB\u001b[39;49m\u001b[38;5;124;43m\"\u001b[39;49m\u001b[43m)\u001b[49m\n\u001b[1;32m      4\u001b[0m im\n",
      "File \u001b[0;32m~/Documents/SCAI/OT4D/OT4D/.venv/lib/python3.12/site-packages/PIL/Image.py:922\u001b[0m, in \u001b[0;36mImage.convert\u001b[0;34m(self, mode, matrix, dither, palette, colors)\u001b[0m\n\u001b[1;32m    874\u001b[0m \u001b[38;5;28;01mdef\u001b[39;00m \u001b[38;5;21mconvert\u001b[39m(\n\u001b[1;32m    875\u001b[0m     \u001b[38;5;28mself\u001b[39m, mode\u001b[38;5;241m=\u001b[39m\u001b[38;5;28;01mNone\u001b[39;00m, matrix\u001b[38;5;241m=\u001b[39m\u001b[38;5;28;01mNone\u001b[39;00m, dither\u001b[38;5;241m=\u001b[39m\u001b[38;5;28;01mNone\u001b[39;00m, palette\u001b[38;5;241m=\u001b[39mPalette\u001b[38;5;241m.\u001b[39mWEB, colors\u001b[38;5;241m=\u001b[39m\u001b[38;5;241m256\u001b[39m\n\u001b[1;32m    876\u001b[0m ):\n\u001b[1;32m    877\u001b[0m \u001b[38;5;250m    \u001b[39m\u001b[38;5;124;03m\"\"\"\u001b[39;00m\n\u001b[1;32m    878\u001b[0m \u001b[38;5;124;03m    Returns a converted copy of this image. For the \"P\" mode, this\u001b[39;00m\n\u001b[1;32m    879\u001b[0m \u001b[38;5;124;03m    method translates pixels through the palette.  If mode is\u001b[39;00m\n\u001b[0;32m   (...)\u001b[0m\n\u001b[1;32m    919\u001b[0m \u001b[38;5;124;03m    :returns: An :py:class:`~PIL.Image.Image` object.\u001b[39;00m\n\u001b[1;32m    920\u001b[0m \u001b[38;5;124;03m    \"\"\"\u001b[39;00m\n\u001b[0;32m--> 922\u001b[0m     \u001b[38;5;28;43mself\u001b[39;49m\u001b[38;5;241;43m.\u001b[39;49m\u001b[43mload\u001b[49m\u001b[43m(\u001b[49m\u001b[43m)\u001b[49m\n\u001b[1;32m    924\u001b[0m     has_transparency \u001b[38;5;241m=\u001b[39m \u001b[38;5;124m\"\u001b[39m\u001b[38;5;124mtransparency\u001b[39m\u001b[38;5;124m\"\u001b[39m \u001b[38;5;129;01min\u001b[39;00m \u001b[38;5;28mself\u001b[39m\u001b[38;5;241m.\u001b[39minfo\n\u001b[1;32m    925\u001b[0m     \u001b[38;5;28;01mif\u001b[39;00m \u001b[38;5;129;01mnot\u001b[39;00m mode \u001b[38;5;129;01mand\u001b[39;00m \u001b[38;5;28mself\u001b[39m\u001b[38;5;241m.\u001b[39mmode \u001b[38;5;241m==\u001b[39m \u001b[38;5;124m\"\u001b[39m\u001b[38;5;124mP\u001b[39m\u001b[38;5;124m\"\u001b[39m:\n\u001b[1;32m    926\u001b[0m         \u001b[38;5;66;03m# determine default mode\u001b[39;00m\n",
      "File \u001b[0;32m~/Documents/SCAI/OT4D/OT4D/.venv/lib/python3.12/site-packages/PIL/ImageFile.py:310\u001b[0m, in \u001b[0;36mImageFile.load\u001b[0;34m(self)\u001b[0m\n\u001b[1;32m    306\u001b[0m \u001b[38;5;28mself\u001b[39m\u001b[38;5;241m.\u001b[39mfp \u001b[38;5;241m=\u001b[39m \u001b[38;5;28;01mNone\u001b[39;00m\n\u001b[1;32m    308\u001b[0m \u001b[38;5;28;01mif\u001b[39;00m \u001b[38;5;129;01mnot\u001b[39;00m \u001b[38;5;28mself\u001b[39m\u001b[38;5;241m.\u001b[39mmap \u001b[38;5;129;01mand\u001b[39;00m \u001b[38;5;129;01mnot\u001b[39;00m LOAD_TRUNCATED_IMAGES \u001b[38;5;129;01mand\u001b[39;00m err_code \u001b[38;5;241m<\u001b[39m \u001b[38;5;241m0\u001b[39m:\n\u001b[1;32m    309\u001b[0m     \u001b[38;5;66;03m# still raised if decoder fails to return anything\u001b[39;00m\n\u001b[0;32m--> 310\u001b[0m     \u001b[38;5;28;01mraise\u001b[39;00m _get_oserror(err_code, encoder\u001b[38;5;241m=\u001b[39m\u001b[38;5;28;01mFalse\u001b[39;00m)\n\u001b[1;32m    312\u001b[0m \u001b[38;5;28;01mreturn\u001b[39;00m Image\u001b[38;5;241m.\u001b[39mImage\u001b[38;5;241m.\u001b[39mload(\u001b[38;5;28mself\u001b[39m)\n",
      "\u001b[0;31mOSError\u001b[0m: broken data stream when reading image file"
     ]
    }
   ],
   "source": [
    "original_path = \"/home/etienneguevel/Documents/SCAI/OT4D/OT4D/data_kaggle/bone_marrow_cell_dataset/MYB/5001-6000/MYB_05527.jpg\"\n",
    "im = Image.open(original_path)\n",
    "im = im.convert(\"RGB\")\n",
    "im"
   ]
  },
  {
   "cell_type": "markdown",
   "id": "d79a61fb-7ba1-48f2-8148-489920941447",
   "metadata": {},
   "source": [
    "Visibly there is an issue with one of the images (and in the original one too).   \n",
    "One solution would be to add a step to the prepare_data pipeline date \n",
    "where we would look if we can open the image before copying it."
   ]
  }
 ],
 "metadata": {
  "kernelspec": {
   "display_name": "Python 3 (ipykernel)",
   "language": "python",
   "name": "python3"
  },
  "language_info": {
   "codemirror_mode": {
    "name": "ipython",
    "version": 3
   },
   "file_extension": ".py",
   "mimetype": "text/x-python",
   "name": "python",
   "nbconvert_exporter": "python",
   "pygments_lexer": "ipython3",
   "version": "3.12.2"
  }
 },
 "nbformat": 4,
 "nbformat_minor": 5
}
